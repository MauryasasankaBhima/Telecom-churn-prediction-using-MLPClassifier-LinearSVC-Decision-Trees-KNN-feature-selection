{
  "nbformat": 4,
  "nbformat_minor": 0,
  "metadata": {
    "colab": {
      "provenance": []
    },
    "kernelspec": {
      "name": "python3",
      "display_name": "Python 3"
    },
    "language_info": {
      "name": "python"
    }
  },
  "cells": [
    {
      "cell_type": "code",
      "execution_count": 1,
      "metadata": {
        "id": "1vmFi1jNEoPb"
      },
      "outputs": [],
      "source": [
        "import pandas as pd\n",
        "import numpy as np\n",
        "from sklearn.model_selection import train_test_split\n",
        "from sklearn.preprocessing import StandardScaler, LabelEncoder\n",
        "from sklearn.neural_network import MLPClassifier\n",
        "from sklearn.svm import LinearSVC\n",
        "from sklearn.tree import DecisionTreeClassifier\n",
        "from sklearn.neighbors import KNeighborsClassifier\n",
        "from sklearn.metrics import accuracy_score, precision_score, recall_score, f1_score\n",
        "from sklearn.model_selection import RandomizedSearchCV\n",
        "from sklearn.ensemble import RandomForestClassifier, StackingClassifier\n"
      ]
    },
    {
      "cell_type": "code",
      "source": [
        "# Upload the dataset files\n",
        "train_file_path = '/content/Cell Phone Churn-TRAIN.csv'\n",
        "test_file_path = '/content/Cell Phone Churn-TEST.csv'\n",
        "\n",
        "train_df = pd.read_csv(train_file_path)\n",
        "test_df = pd.read_csv(test_file_path)\n"
      ],
      "metadata": {
        "id": "qXtKgqSQE37G"
      },
      "execution_count": 2,
      "outputs": []
    },
    {
      "cell_type": "code",
      "source": [
        "print(train_df.columns)\n",
        "print(test_df.columns)\n"
      ],
      "metadata": {
        "colab": {
          "base_uri": "https://localhost:8080/"
        },
        "id": "vLiOpwweFyXt",
        "outputId": "09dc69a2-2298-4276-8f9f-81c8d737006c"
      },
      "execution_count": 6,
      "outputs": [
        {
          "output_type": "stream",
          "name": "stdout",
          "text": [
            "Index(['MOUMO', 'MOUPMO', 'MOU3MO', 'MOUCH1M', 'MOUCH3M', 'CUM3MCH', 'CUSTMOS',\n",
            "       'LONGD', 'CALLW', 'LINES', 'VOICEM', 'CELL', 'CONVB', 'SEX', 'INCOME',\n",
            "       'SPORTS', 'NATURE', 'ARTS', 'HRS_TV', 'TRAVEL', 'EDUC', 'TOTMOU',\n",
            "       'TOTCHNG', 'TARGET'],\n",
            "      dtype='object')\n",
            "Index(['MOUMO', 'MOUPMO', 'MOU3MO', 'MOUCH1M', 'MOUCH3M', 'CUM3MCH', 'CUSTMOS',\n",
            "       'LONGD', 'CALLW', 'LINES', 'VOICEM', 'CELL', 'CONVB', 'SEX', 'INCOME',\n",
            "       'SPORTS', 'NATURE', 'ARTS', 'HRS_TV', 'TRAVEL', 'EDUC', 'TOTMOU',\n",
            "       'TOTCHNG', 'TARGET'],\n",
            "      dtype='object')\n"
          ]
        }
      ]
    },
    {
      "cell_type": "code",
      "source": [
        "# Separate features and target\n",
        "X_train = train_df.drop('TARGET', axis=1)\n",
        "y_train = train_df['TARGET']\n",
        "X_test = test_df.drop('TARGET', axis=1)\n",
        "y_test = test_df['TARGET']\n"
      ],
      "metadata": {
        "id": "8oqZoNFcF-lv"
      },
      "execution_count": 7,
      "outputs": []
    },
    {
      "cell_type": "code",
      "source": [
        "# Initialize classifiers\n",
        "classifiers = {\n",
        "    \"MLP\": MLPClassifier(random_state=42),\n",
        "    \"LinearSVC\": LinearSVC(random_state=42, max_iter=10000),  # Increase max_iter to avoid convergence issues\n",
        "    \"DecisionTree\": DecisionTreeClassifier(random_state=42),\n",
        "    \"KNN\": KNeighborsClassifier()\n",
        "}\n",
        "\n",
        "# Dictionary to store results\n",
        "results = []\n",
        "\n",
        "# Train and evaluate each classifier\n",
        "for name, clf in classifiers.items():\n",
        "    clf.fit(X_train, y_train)\n",
        "    y_pred = clf.predict(X_test)\n",
        "    results.append({\n",
        "        \"Classifier\": name,\n",
        "        \"Accuracy\": accuracy_score(y_test, y_pred),\n",
        "        \"Precision\": precision_score(y_test, y_pred, average='binary'),\n",
        "        \"Recall\": recall_score(y_test, y_pred, average='binary'),\n",
        "        \"F1\": f1_score(y_test, y_pred, average='binary')\n",
        "    })\n",
        "\n",
        "# Display results\n",
        "results_df = pd.DataFrame(results)\n",
        "print(results_df)\n"
      ],
      "metadata": {
        "colab": {
          "base_uri": "https://localhost:8080/"
        },
        "id": "UuGdzEsEGbBN",
        "outputId": "bbfddaa3-1cb2-4531-b42a-8d6dcfc3d34b"
      },
      "execution_count": 8,
      "outputs": [
        {
          "output_type": "stream",
          "name": "stdout",
          "text": [
            "     Classifier  Accuracy  Precision    Recall        F1\n",
            "0           MLP  0.733333    0.97619  0.292857  0.450549\n",
            "1     LinearSVC  0.722667    0.75000  0.385714  0.509434\n",
            "2  DecisionTree  0.994667    1.00000  0.985714  0.992806\n",
            "3           KNN  0.994667    1.00000  0.985714  0.992806\n"
          ]
        }
      ]
    },
    {
      "cell_type": "code",
      "source": [
        "from sklearn.model_selection import RandomizedSearchCV\n",
        "\n",
        "# Parameter grid for Decision Tree\n",
        "param_dist = {\n",
        "    \"max_depth\": [3, 5, 10, None],\n",
        "    \"min_samples_split\": [2, 5, 10],\n",
        "    \"min_samples_leaf\": [1, 2, 4],\n",
        "    \"criterion\": [\"gini\", \"entropy\"]\n",
        "}\n",
        "\n",
        "# Perform RandomizedSearchCV\n",
        "dt_random_search = RandomizedSearchCV(\n",
        "    DecisionTreeClassifier(random_state=42),\n",
        "    param_distributions=param_dist,\n",
        "    n_iter=20,\n",
        "    scoring='f1',\n",
        "    cv=3,\n",
        "    random_state=42\n",
        ")\n",
        "dt_random_search.fit(X_train, y_train)\n",
        "\n",
        "# Best Decision Tree model\n",
        "best_dt = dt_random_search.best_estimator_\n",
        "print(\"Best Parameters:\", dt_random_search.best_params_)\n",
        "\n",
        "# Evaluate the best Decision Tree on test data\n",
        "y_pred_tuned = best_dt.predict(X_test)\n",
        "results.append({\n",
        "    \"Classifier\": \"DecisionTree (Tuned)\",\n",
        "    \"Accuracy\": accuracy_score(y_test, y_pred_tuned),\n",
        "    \"Precision\": precision_score(y_test, y_pred_tuned, average='binary'),\n",
        "    \"Recall\": recall_score(y_test, y_pred_tuned, average='binary'),\n",
        "    \"F1\": f1_score(y_test, y_pred_tuned, average='binary')\n",
        "})\n"
      ],
      "metadata": {
        "colab": {
          "base_uri": "https://localhost:8080/"
        },
        "id": "OGoN_6RLGrDx",
        "outputId": "e3d79b49-3558-4f79-c36b-70808fe8ef30"
      },
      "execution_count": 9,
      "outputs": [
        {
          "output_type": "stream",
          "name": "stdout",
          "text": [
            "Best Parameters: {'min_samples_split': 10, 'min_samples_leaf': 4, 'max_depth': 10, 'criterion': 'entropy'}\n"
          ]
        }
      ]
    },
    {
      "cell_type": "code",
      "source": [
        "# Extract feature importances from the tuned Decision Tree\n",
        "feature_importances = pd.Series(best_dt.feature_importances_, index=X_train.columns)\n",
        "\n",
        "# Identify the top 5 most important features\n",
        "top_features = feature_importances.sort_values(ascending=False).head(5)\n",
        "\n",
        "# Display the top 5 features\n",
        "print(\"Top 5 Features and Their Importance Scores:\")\n",
        "print(top_features)\n"
      ],
      "metadata": {
        "colab": {
          "base_uri": "https://localhost:8080/"
        },
        "id": "nN1wJL2DJXcX",
        "outputId": "4e2f3209-2270-4aa8-ba5b-81312b01ee36"
      },
      "execution_count": 13,
      "outputs": [
        {
          "output_type": "stream",
          "name": "stdout",
          "text": [
            "Top 5 Features and Their Importance Scores:\n",
            "MOUCH3M    0.449018\n",
            "INCOME     0.213672\n",
            "CONVB      0.062632\n",
            "MOUPMO     0.054220\n",
            "TOTCHNG    0.051970\n",
            "dtype: float64\n"
          ]
        }
      ]
    },
    {
      "cell_type": "code",
      "source": [
        "# Convert top features to a string for inclusion in results\n",
        "top_features_str = \", \".join([f\"{feature}: {importance:.2f}\" for feature, importance in top_features.items()])\n",
        "\n",
        "# Append feature importance as a separate row in the results\n",
        "results.append({\n",
        "    \"Classifier\": \"Top 5 Features\",\n",
        "    \"Accuracy\": \"N/A\",\n",
        "    \"Precision\": \"N/A\",\n",
        "    \"Recall\": \"N/A\",\n",
        "    \"F1\": \"N/A\",\n",
        "    \"Top Features\": top_features_str  # Add top features here\n",
        "})\n"
      ],
      "metadata": {
        "id": "YodVY6lXMyO9"
      },
      "execution_count": 17,
      "outputs": []
    },
    {
      "cell_type": "code",
      "source": [
        "# Update results DataFrame\n",
        "results_df = pd.DataFrame(results)\n",
        "\n",
        "# Save the updated results table\n",
        "results_df.to_csv(\"classification_results_with_features.csv\", index=False)\n",
        "\n",
        "# Print the updated results DataFrame\n",
        "print(results_df)\n"
      ],
      "metadata": {
        "colab": {
          "base_uri": "https://localhost:8080/"
        },
        "id": "1x0AxSuqNAL8",
        "outputId": "9719a637-b063-4ff8-fa66-146630151a8b"
      },
      "execution_count": 18,
      "outputs": [
        {
          "output_type": "stream",
          "name": "stdout",
          "text": [
            "             Classifier  Accuracy Precision    Recall        F1  \\\n",
            "0                   MLP  0.733333   0.97619  0.292857  0.450549   \n",
            "1             LinearSVC  0.722667      0.75  0.385714  0.509434   \n",
            "2          DecisionTree  0.994667       1.0  0.985714  0.992806   \n",
            "3                   KNN  0.994667       1.0  0.985714  0.992806   \n",
            "4  DecisionTree (Tuned)  0.994667       1.0  0.985714  0.992806   \n",
            "5              Stacking  0.994667       1.0  0.985714  0.992806   \n",
            "6        Top 5 Features       N/A       N/A       N/A       N/A   \n",
            "\n",
            "                                        Top Features  \n",
            "0                                                NaN  \n",
            "1                                                NaN  \n",
            "2                                                NaN  \n",
            "3                                                NaN  \n",
            "4                                                NaN  \n",
            "5                                                NaN  \n",
            "6  MOUCH3M: 0.45, INCOME: 0.21, CONVB: 0.06, MOUP...  \n"
          ]
        }
      ]
    },
    {
      "cell_type": "code",
      "source": [
        "results_df.loc[results_df[\"Classifier\"] == \"Top 5 Features\", [\"Accuracy\", \"Precision\", \"Recall\", \"F1\"]] = \"N/A\"\n"
      ],
      "metadata": {
        "id": "3c47TW0_N66h"
      },
      "execution_count": 19,
      "outputs": []
    },
    {
      "cell_type": "code",
      "source": [
        "from sklearn.ensemble import StackingClassifier, RandomForestClassifier\n",
        "\n",
        "# Define base estimators\n",
        "estimators = [\n",
        "    ('mlp', MLPClassifier(random_state=42)),\n",
        "    ('svc', LinearSVC(random_state=42, max_iter=10000)),\n",
        "    ('dt', DecisionTreeClassifier(random_state=42)),\n",
        "    ('knn', KNeighborsClassifier())\n",
        "]\n",
        "\n",
        "# Define stacking classifier\n",
        "stacking_clf = StackingClassifier(\n",
        "    estimators=estimators,\n",
        "    final_estimator=RandomForestClassifier(random_state=42)\n",
        ")\n",
        "\n",
        "# Train and evaluate stacking classifier\n",
        "stacking_clf.fit(X_train, y_train)\n",
        "y_pred_stack = stacking_clf.predict(X_test)\n",
        "\n",
        "# Evaluate stacking classifier\n",
        "results.append({\n",
        "    \"Classifier\": \"Stacking\",\n",
        "    \"Accuracy\": accuracy_score(y_test, y_pred_stack),\n",
        "    \"Precision\": precision_score(y_test, y_pred_stack, average='binary'),\n",
        "    \"Recall\": recall_score(y_test, y_pred_stack, average='binary'),\n",
        "    \"F1\": f1_score(y_test, y_pred_stack, average='binary')\n",
        "})\n"
      ],
      "metadata": {
        "id": "Amt1368HGzhg"
      },
      "execution_count": 10,
      "outputs": []
    },
    {
      "cell_type": "code",
      "source": [
        "# Convert results to DataFrame\n",
        "results_df = pd.DataFrame(results)\n",
        "\n",
        "# Save results to a CSV file for use in Word\n",
        "results_df.to_csv(\"classification_results.csv\", index=False)\n",
        "\n",
        "# Display the results\n",
        "print(results_df)\n"
      ],
      "metadata": {
        "colab": {
          "base_uri": "https://localhost:8080/"
        },
        "id": "a-6pMhnRG9Wq",
        "outputId": "870ea4fd-7e40-460d-a27b-face49767e88"
      },
      "execution_count": 21,
      "outputs": [
        {
          "output_type": "stream",
          "name": "stdout",
          "text": [
            "             Classifier  Accuracy Precision    Recall        F1  \\\n",
            "0                   MLP  0.733333   0.97619  0.292857  0.450549   \n",
            "1             LinearSVC  0.722667      0.75  0.385714  0.509434   \n",
            "2          DecisionTree  0.994667       1.0  0.985714  0.992806   \n",
            "3                   KNN  0.994667       1.0  0.985714  0.992806   \n",
            "4  DecisionTree (Tuned)  0.994667       1.0  0.985714  0.992806   \n",
            "5              Stacking  0.994667       1.0  0.985714  0.992806   \n",
            "6        Top 5 Features       N/A       N/A       N/A       N/A   \n",
            "\n",
            "                                        Top Features  \n",
            "0                                                NaN  \n",
            "1                                                NaN  \n",
            "2                                                NaN  \n",
            "3                                                NaN  \n",
            "4                                                NaN  \n",
            "5                                                NaN  \n",
            "6  MOUCH3M: 0.45, INCOME: 0.21, CONVB: 0.06, MOUP...  \n"
          ]
        }
      ]
    },
    {
      "cell_type": "code",
      "source": [
        "# Save the results table to a CSV file\n",
        "results_df.to_csv(\"classification_results.csv\", index=False)\n"
      ],
      "metadata": {
        "id": "M_ayo3FGICwE"
      },
      "execution_count": 20,
      "outputs": []
    }
  ]
}